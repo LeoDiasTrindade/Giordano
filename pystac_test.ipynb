{
 "cells": [
  {
   "cell_type": "code",
   "execution_count": null,
   "id": "5f712ad0-71cc-4219-937a-ffe43a1c0fab",
   "metadata": {},
   "outputs": [],
   "source": [
    "from pystac_client import Client\n",
    "import os\n",
    "import urllib"
   ]
  },
  {
   "cell_type": "code",
   "execution_count": null,
   "id": "b617e5da-ea49-4861-bbbc-2ea46e743c20",
   "metadata": {},
   "outputs": [],
   "source": [
    "catalog = Client.open(\"https://stac.astrogeology.usgs.gov/api/\")\n",
    "# for c in catalog.get_collections(): print(c)\n",
    "\n",
    "mysearch = catalog.search(collections=['mo_themis_controlled_mosaics'], max_items=10)\n",
    "print(f\"{mysearch.matched()} items found\")\n",
    "\n",
    "aoi = {\n",
    "    \"type\": \"Polygon\",\n",
    "    \"coordinates\": [\n",
    "      [ [-20,-10], [ 20,-10], [20,10], [-20,10], [ -20,-10] ]\n",
    "    ]\n",
    "}\n",
    "\n",
    "response = catalog.search(collections=['mo_themis_controlled_mosaics'], intersects=aoi)\n",
    "print(f\"{response.matched()} items found\")\n",
    "\n",
    "for item in response.get_items():\n",
    "    download_path = os.path.join(item.collection_id, item.id)\n",
    "    if not os.path.exists(download_path):\n",
    "        os.makedirs(download_path, exist_ok=True)\n",
    "    for name, asset in item.assets.items():\n",
    "        urllib.request.urlretrieve(asset.href, \n",
    "                                   os.path.join(download_path, \n",
    "                                   os.path.basename(asset.href)))"
   ]
  },
  {
   "cell_type": "code",
   "execution_count": 28,
   "id": "54608734-2f82-43f0-8799-0d0fbe00b9c4",
   "metadata": {},
   "outputs": [
    {
     "name": "stdout",
     "output_type": "stream",
     "text": [
      "^C\n"
     ]
    }
   ],
   "source": [
    "!conda install astropy"
   ]
  }
 ],
 "metadata": {
  "kernelspec": {
   "display_name": "Python 3 (ipykernel)",
   "language": "python",
   "name": "python3"
  },
  "language_info": {
   "codemirror_mode": {
    "name": "ipython",
    "version": 3
   },
   "file_extension": ".py",
   "mimetype": "text/x-python",
   "name": "python",
   "nbconvert_exporter": "python",
   "pygments_lexer": "ipython3",
   "version": "3.11.0"
  }
 },
 "nbformat": 4,
 "nbformat_minor": 5
}
